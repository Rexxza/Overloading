{
  "cells": [
    {
      "cell_type": "markdown",
      "metadata": {
        "id": "view-in-github",
        "colab_type": "text"
      },
      "source": [
        "<a href=\"https://colab.research.google.com/github/Rexxza/Overloading/blob/main/Copy_of_Tugas_Overloading_2.ipynb\" target=\"_parent\"><img src=\"https://colab.research.google.com/assets/colab-badge.svg\" alt=\"Open In Colab\"/></a>"
      ]
    },
    {
      "cell_type": "code",
      "execution_count": 23,
      "metadata": {
        "id": "5zCytCeM1uD4"
      },
      "outputs": [],
      "source": [
        "#class Nama\n",
        "class Nama:\n",
        "  def kalimat(self, namadepan = \"\", namatengah = \"\", namatengah2 = \"\", namaakhir = \"\"):\n",
        "    print(namadepan + namatengah + namatengah2 + namaakhir)\n",
        "#Buat fungsi yang digunakan untuk mengabungkan nama dengan ketentuan nama depan, nama tengah, nama akhir, dan seterusnya dianggap 1 (satu) parameter"
      ]
    },
    {
      "cell_type": "code",
      "execution_count": 24,
      "metadata": {
        "colab": {
          "base_uri": "https://localhost:8080/"
        },
        "id": "liQBcJWZ12MN",
        "outputId": "8b8d6e4d-2cd8-4a7a-bff7-23d47a14ad92"
      },
      "outputs": [
        {
          "output_type": "stream",
          "name": "stdout",
          "text": [
            "Rexza Arya Ananda Lubis\n",
            "Achmad Ifan Pratama\n",
            "Harun Surya Wibawa\n",
            "Irsyad Risky Widodo\n"
          ]
        }
      ],
      "source": [
        "#Buat main program\n",
        "#Panggil fungsi untuk membuat nama lengkap 4 nama teman kalian\n",
        "coba = Nama()\n",
        "\n",
        "coba.kalimat(\"Rexza\", \" Arya\", \" Ananda\", \" Lubis\")\n",
        "coba.kalimat(\"Achmad\", \" Ifan\", \" Pratama\")\n",
        "coba.kalimat(\"Harun\", \" Surya\", \" Wibawa\")\n",
        "coba.kalimat(\"Irsyad\", \" Risky\", \" Widodo\")"
      ]
    },
    {
      "cell_type": "markdown",
      "source": [
        "kesimpulan dari konsep overloading bahwa class di atas yang bernama class nama memiliki fungsi overloading yang diamana menggabungkan kata per kata\n",
        "cara bekerjanya adalah fungsi tersebut mempunyai 4 parameter yang bernama (namadepan,namatengah,namatengah2,namaakhir) dan fungsi tersebut bisa menggabungkan parameter dengan parameter lainnya tanpa adanya perulangan\n",
        "\n",
        "contoh:jika parameter tersebut bernama namadepan dan parameter tersebut diisi menjadi \"rexza\" dan parameter2 bernama namatengah dan diisi \"arya\" maka output nya menjadi rexza arya"
      ],
      "metadata": {
        "id": "h4nCtM92eGla"
      }
    }
  ],
  "metadata": {
    "colab": {
      "provenance": [],
      "include_colab_link": true
    },
    "kernelspec": {
      "display_name": "Python 3",
      "name": "python3"
    },
    "language_info": {
      "name": "python"
    }
  },
  "nbformat": 4,
  "nbformat_minor": 0
}